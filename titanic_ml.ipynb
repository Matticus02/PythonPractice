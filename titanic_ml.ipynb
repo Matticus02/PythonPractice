{
  "nbformat": 4,
  "nbformat_minor": 0,
  "metadata": {
    "colab": {
      "name": "titanic_ml",
      "provenance": [],
      "collapsed_sections": [],
      "authorship_tag": "ABX9TyMYQSS3XXB4vxKuwqIrAzGe",
      "include_colab_link": true
    },
    "kernelspec": {
      "name": "python3",
      "display_name": "Python 3"
    }
  },
  "cells": [
    {
      "cell_type": "markdown",
      "metadata": {
        "id": "view-in-github",
        "colab_type": "text"
      },
      "source": [
        "<a href=\"https://colab.research.google.com/github/Matticus02/PythonPractice/blob/master/titanic_ml.ipynb\" target=\"_parent\"><img src=\"https://colab.research.google.com/assets/colab-badge.svg\" alt=\"Open In Colab\"/></a>"
      ]
    },
    {
      "cell_type": "markdown",
      "metadata": {
        "id": "UZRO35D7EeFX",
        "colab_type": "text"
      },
      "source": [
        "## **Introduction to Machine Learning**\n",
        "First up, let's get google colabs working."
      ]
    },
    {
      "cell_type": "code",
      "metadata": {
        "id": "99h2b-gvbAFv",
        "colab_type": "code",
        "outputId": "dbf2bc8b-7c38-4a95-87f2-56bc02bc9ce6",
        "colab": {
          "base_uri": "https://localhost:8080/",
          "height": 122
        }
      },
      "source": [
        "from google.colab import drive\n",
        "drive.mount('/content/gdrive')"
      ],
      "execution_count": 0,
      "outputs": [
        {
          "output_type": "stream",
          "text": [
            "Go to this URL in a browser: https://accounts.google.com/o/oauth2/auth?client_id=947318989803-6bn6qk8qdgf4n4g3pfee6491hc0brc4i.apps.googleusercontent.com&redirect_uri=urn%3aietf%3awg%3aoauth%3a2.0%3aoob&response_type=code&scope=email%20https%3a%2f%2fwww.googleapis.com%2fauth%2fdocs.test%20https%3a%2f%2fwww.googleapis.com%2fauth%2fdrive%20https%3a%2f%2fwww.googleapis.com%2fauth%2fdrive.photos.readonly%20https%3a%2f%2fwww.googleapis.com%2fauth%2fpeopleapi.readonly\n",
            "\n",
            "Enter your authorization code:\n",
            "··········\n",
            "Mounted at /content/gdrive\n"
          ],
          "name": "stdout"
        }
      ]
    },
    {
      "cell_type": "code",
      "metadata": {
        "id": "Cy4XNThs7ghd",
        "colab_type": "code",
        "colab": {}
      },
      "source": [
        "import os"
      ],
      "execution_count": 0,
      "outputs": []
    },
    {
      "cell_type": "code",
      "metadata": {
        "id": "xr5Jq5hZ7cpa",
        "colab_type": "code",
        "outputId": "e32e3999-e864-41a2-960a-4df643b72e5a",
        "colab": {
          "base_uri": "https://localhost:8080/",
          "height": 238
        }
      },
      "source": [
        "os.listdir('/content/gdrive/My Drive/Colab Notebooks/')"
      ],
      "execution_count": 0,
      "outputs": [
        {
          "output_type": "execute_result",
          "data": {
            "text/plain": [
              "['Untitled0.ipynb',\n",
              " 'Copy of Welcome To Colaboratory (2)',\n",
              " 'strava_heatmap.ipynb',\n",
              " 'Untitled1 (1).ipynb',\n",
              " 'Copy of Welcome To Colaboratory (1)',\n",
              " 'Untitled2.ipynb',\n",
              " 'Copy of Welcome To Colaboratory',\n",
              " 'Untitled1.ipynb',\n",
              " 'Untitled3.ipynb',\n",
              " 'Copy of titanic_ml',\n",
              " 'test.csv',\n",
              " 'train.csv',\n",
              " 'titanic_ml.ipynb']"
            ]
          },
          "metadata": {
            "tags": []
          },
          "execution_count": 18
        }
      ]
    },
    {
      "cell_type": "markdown",
      "metadata": {
        "id": "SY85k4YUZrIK",
        "colab_type": "text"
      },
      "source": [
        "# 1. **Introduction**\n",
        "\n",
        "The sinking of the Titanic is one of the most infamous shipwrecks in history.\n",
        "\n",
        "On April 15, 1912, during her maiden voyage, the widely considered “unsinkable” RMS Titanic sank after colliding with an iceberg. Unfortunately, there weren’t enough lifeboats for everyone onboard, resulting in the death of 1502 out of 2224 passengers and crew.\n",
        "\n",
        "While there was some element of luck involved in surviving, it seems some groups of people were more likely to survive than others.\n",
        "\n",
        "In this challenge, we ask you to build a predictive model that answers the question: “what sorts of people were more likely to survive?” using passenger data (ie name, age, gender, socio-economic class, etc).\n",
        "\n",
        "# 1.1. Data\n",
        "In this competition, you’ll gain access to two similar datasets that include passenger information like name, age, gender, socio-economic class, etc. One dataset is titled `train.csv` and the other is titled `test.csv`.\n",
        "\n",
        "Train.csv will contain the details of a subset of the passengers on board (891 to be exact) and importantly, will reveal whether they survived or not, also known as the “ground truth”.\n",
        "\n",
        "The `test.csv` dataset contains similar information but does not disclose the “ground truth” for each passenger. It’s your job to predict these outcomes.\n",
        "\n",
        "Using the patterns you find in the train.csv data, predict whether the other 418 passengers on board (found in test.csv) survived.\n",
        "\n",
        "**1.1.1. Data Dictionary**\n",
        "\n",
        "**Variable**:\t**Definition**\n",
        "\n",
        "survival:\tSurvival\t\n",
        "pclass:\tTicket class\t\n",
        "sex:\tSex\t\n",
        "Age:\tAge in years\t\n",
        "sibsp:\t# of siblings / spouses aboard the Titanic\t\n",
        "parch:\t# of parents / children aboard the Titanic\t\n",
        "ticket:\tTicket number\t\n",
        "fare:\tPassenger fare\t\n",
        "cabin:\tCabin number\t\n",
        "embarked:\tPort of Embarkation\t\n",
        "\n"
      ]
    },
    {
      "cell_type": "markdown",
      "metadata": {
        "id": "ZEJmG4mibLmu",
        "colab_type": "text"
      },
      "source": [
        "# **2. Data Exploration**"
      ]
    },
    {
      "cell_type": "code",
      "metadata": {
        "id": "KX9jJOM0bGUs",
        "colab_type": "code",
        "colab": {}
      },
      "source": [
        "# Pandas is a user friendly and efficient library for working with data in Python.\n",
        "import pandas as pd\n",
        "\n",
        "#Read the training dataset into memory\n",
        "train_df = pd.read_csv('/content/gdrive/My Drive/Colab Notebooks/train.csv')"
      ],
      "execution_count": 0,
      "outputs": []
    },
    {
      "cell_type": "code",
      "metadata": {
        "id": "hV5nmZr8bcT_",
        "colab_type": "code",
        "outputId": "bb47a1f9-e57d-4078-ffe9-d6afb1548022",
        "colab": {
          "base_uri": "https://localhost:8080/",
          "height": 204
        }
      },
      "source": [
        "#let's take a look at it\n",
        "train_df.head()"
      ],
      "execution_count": 0,
      "outputs": [
        {
          "output_type": "execute_result",
          "data": {
            "text/html": [
              "<div>\n",
              "<style scoped>\n",
              "    .dataframe tbody tr th:only-of-type {\n",
              "        vertical-align: middle;\n",
              "    }\n",
              "\n",
              "    .dataframe tbody tr th {\n",
              "        vertical-align: top;\n",
              "    }\n",
              "\n",
              "    .dataframe thead th {\n",
              "        text-align: right;\n",
              "    }\n",
              "</style>\n",
              "<table border=\"1\" class=\"dataframe\">\n",
              "  <thead>\n",
              "    <tr style=\"text-align: right;\">\n",
              "      <th></th>\n",
              "      <th>PassengerId</th>\n",
              "      <th>Survived</th>\n",
              "      <th>Pclass</th>\n",
              "      <th>Name</th>\n",
              "      <th>Sex</th>\n",
              "      <th>Age</th>\n",
              "      <th>SibSp</th>\n",
              "      <th>Parch</th>\n",
              "      <th>Ticket</th>\n",
              "      <th>Fare</th>\n",
              "      <th>Cabin</th>\n",
              "      <th>Embarked</th>\n",
              "    </tr>\n",
              "  </thead>\n",
              "  <tbody>\n",
              "    <tr>\n",
              "      <th>0</th>\n",
              "      <td>1</td>\n",
              "      <td>0</td>\n",
              "      <td>3</td>\n",
              "      <td>Braund, Mr. Owen Harris</td>\n",
              "      <td>male</td>\n",
              "      <td>22.0</td>\n",
              "      <td>1</td>\n",
              "      <td>0</td>\n",
              "      <td>A/5 21171</td>\n",
              "      <td>7.2500</td>\n",
              "      <td>NaN</td>\n",
              "      <td>S</td>\n",
              "    </tr>\n",
              "    <tr>\n",
              "      <th>1</th>\n",
              "      <td>2</td>\n",
              "      <td>1</td>\n",
              "      <td>1</td>\n",
              "      <td>Cumings, Mrs. John Bradley (Florence Briggs Th...</td>\n",
              "      <td>female</td>\n",
              "      <td>38.0</td>\n",
              "      <td>1</td>\n",
              "      <td>0</td>\n",
              "      <td>PC 17599</td>\n",
              "      <td>71.2833</td>\n",
              "      <td>C85</td>\n",
              "      <td>C</td>\n",
              "    </tr>\n",
              "    <tr>\n",
              "      <th>2</th>\n",
              "      <td>3</td>\n",
              "      <td>1</td>\n",
              "      <td>3</td>\n",
              "      <td>Heikkinen, Miss. Laina</td>\n",
              "      <td>female</td>\n",
              "      <td>26.0</td>\n",
              "      <td>0</td>\n",
              "      <td>0</td>\n",
              "      <td>STON/O2. 3101282</td>\n",
              "      <td>7.9250</td>\n",
              "      <td>NaN</td>\n",
              "      <td>S</td>\n",
              "    </tr>\n",
              "    <tr>\n",
              "      <th>3</th>\n",
              "      <td>4</td>\n",
              "      <td>1</td>\n",
              "      <td>1</td>\n",
              "      <td>Futrelle, Mrs. Jacques Heath (Lily May Peel)</td>\n",
              "      <td>female</td>\n",
              "      <td>35.0</td>\n",
              "      <td>1</td>\n",
              "      <td>0</td>\n",
              "      <td>113803</td>\n",
              "      <td>53.1000</td>\n",
              "      <td>C123</td>\n",
              "      <td>S</td>\n",
              "    </tr>\n",
              "    <tr>\n",
              "      <th>4</th>\n",
              "      <td>5</td>\n",
              "      <td>0</td>\n",
              "      <td>3</td>\n",
              "      <td>Allen, Mr. William Henry</td>\n",
              "      <td>male</td>\n",
              "      <td>35.0</td>\n",
              "      <td>0</td>\n",
              "      <td>0</td>\n",
              "      <td>373450</td>\n",
              "      <td>8.0500</td>\n",
              "      <td>NaN</td>\n",
              "      <td>S</td>\n",
              "    </tr>\n",
              "  </tbody>\n",
              "</table>\n",
              "</div>"
            ],
            "text/plain": [
              "   PassengerId  Survived  Pclass  ...     Fare Cabin  Embarked\n",
              "0            1         0       3  ...   7.2500   NaN         S\n",
              "1            2         1       1  ...  71.2833   C85         C\n",
              "2            3         1       3  ...   7.9250   NaN         S\n",
              "3            4         1       1  ...  53.1000  C123         S\n",
              "4            5         0       3  ...   8.0500   NaN         S\n",
              "\n",
              "[5 rows x 12 columns]"
            ]
          },
          "metadata": {
            "tags": []
          },
          "execution_count": 20
        }
      ]
    },
    {
      "cell_type": "code",
      "metadata": {
        "id": "xl7ZFO_9boy0",
        "colab_type": "code",
        "outputId": "285c1bca-8e8c-4e8e-9fbe-7c6b97e0d321",
        "colab": {
          "base_uri": "https://localhost:8080/",
          "height": 306
        }
      },
      "source": [
        "# Notice that Pandas does a good job of inferring the data types on our behalf\n",
        "train_df.info()"
      ],
      "execution_count": 0,
      "outputs": [
        {
          "output_type": "stream",
          "text": [
            "<class 'pandas.core.frame.DataFrame'>\n",
            "RangeIndex: 891 entries, 0 to 890\n",
            "Data columns (total 12 columns):\n",
            "PassengerId    891 non-null int64\n",
            "Survived       891 non-null int64\n",
            "Pclass         891 non-null int64\n",
            "Name           891 non-null object\n",
            "Sex            891 non-null object\n",
            "Age            714 non-null float64\n",
            "SibSp          891 non-null int64\n",
            "Parch          891 non-null int64\n",
            "Ticket         891 non-null object\n",
            "Fare           891 non-null float64\n",
            "Cabin          204 non-null object\n",
            "Embarked       889 non-null object\n",
            "dtypes: float64(2), int64(5), object(5)\n",
            "memory usage: 83.7+ KB\n"
          ],
          "name": "stdout"
        }
      ]
    },
    {
      "cell_type": "markdown",
      "metadata": {
        "id": "LLfvinBeb0lr",
        "colab_type": "text"
      },
      "source": [
        "From observing the data above, we can see odd NaN values in the \"Cabin\" column. This is Panda's way of representing missing or invalid data. However, there may be other columns that have missing data that we havent been able to spot in the small sample above. We need to check! "
      ]
    },
    {
      "cell_type": "code",
      "metadata": {
        "id": "0m14Ht-hbx14",
        "colab_type": "code",
        "outputId": "71122fee-bb08-4396-b99f-df1dc77995de",
        "colab": {
          "base_uri": "https://localhost:8080/",
          "height": 238
        }
      },
      "source": [
        "train_df.isna().sum()"
      ],
      "execution_count": 0,
      "outputs": [
        {
          "output_type": "execute_result",
          "data": {
            "text/plain": [
              "PassengerId      0\n",
              "Survived         0\n",
              "Pclass           0\n",
              "Name             0\n",
              "Sex              0\n",
              "Age            177\n",
              "SibSp            0\n",
              "Parch            0\n",
              "Ticket           0\n",
              "Fare             0\n",
              "Cabin          687\n",
              "Embarked         2\n",
              "dtype: int64"
            ]
          },
          "metadata": {
            "tags": []
          },
          "execution_count": 22
        }
      ]
    },
    {
      "cell_type": "markdown",
      "metadata": {
        "id": "9cVDmkTdcMV3",
        "colab_type": "text"
      },
      "source": [
        "# 2.1 Correlation"
      ]
    },
    {
      "cell_type": "markdown",
      "metadata": {
        "id": "eN1KwWIicZ9i",
        "colab_type": "text"
      },
      "source": [
        "We want to find some variables in the data that are correlated with whether the passenger survived or not. This will mean that we can use those variables to predict the survival of our passengers in the test dataset.\n",
        "For example, we may see that older passengers were less likely to survive, so we can use this insight to predict if the passengers in the test dataset survived based on their age."
      ]
    },
    {
      "cell_type": "markdown",
      "metadata": {
        "id": "E1wGnCdecuHv",
        "colab_type": "text"
      },
      "source": [
        "**2.1.1. Numerical Variables**\n",
        "Some variables such as \"Age\", are numerical.\n",
        "\n"
      ]
    },
    {
      "cell_type": "code",
      "metadata": {
        "id": "iMCCQRDgc5ml",
        "colab_type": "code",
        "colab": {}
      },
      "source": [
        "#These packages will be useful for working out aggregations and making plots.\n",
        "import numpy as np # linear algebra\n",
        "import matplotlib.pyplot as plt\n",
        "import seaborn as sns"
      ],
      "execution_count": 0,
      "outputs": []
    },
    {
      "cell_type": "code",
      "metadata": {
        "id": "N-2TSm3Ke420",
        "colab_type": "code",
        "colab": {}
      },
      "source": [
        "#split the data into two groups based on survival\n",
        "survived = train_df[train_df[\"Survived\"] == 1]\n",
        "perished = train_df[train_df[\"Survived\"] == 0]"
      ],
      "execution_count": 0,
      "outputs": []
    },
    {
      "cell_type": "code",
      "metadata": {
        "id": "xGnZ42ojfHB6",
        "colab_type": "code",
        "outputId": "557fdbb4-ecf1-4095-f4a6-ad739f9f6ea3",
        "colab": {
          "base_uri": "https://localhost:8080/",
          "height": 296
        }
      },
      "source": [
        "#Plot distributions of the survivor's and non-survivor's age.\n",
        "ax = sns.distplot(survived.Age.dropna(), hist = False, label='Survived')\n",
        "ax = sns.distplot(perished.Age.dropna(), hist = False, label='Perished')\n",
        "ax.legend()"
      ],
      "execution_count": 0,
      "outputs": [
        {
          "output_type": "execute_result",
          "data": {
            "text/plain": [
              "<matplotlib.legend.Legend at 0x7f2c58983f98>"
            ]
          },
          "metadata": {
            "tags": []
          },
          "execution_count": 25
        },
        {
          "output_type": "display_data",
          "data": {
            "image/png": "[encoded data removed]",
            "text/plain": [
              "<Figure size 432x288 with 1 Axes>"
            ]
          },
          "metadata": {
            "tags": []
          }
        }
      ]
    },
    {
      "cell_type": "markdown",
      "metadata": {
        "id": "LxibTDIcfcOs",
        "colab_type": "text"
      },
      "source": [
        "Exercises:\n",
        "1. What does this plot tell us?\n",
        "2. Can you amend the code above to visualise how \"Survived\" depends on other numerical variables in the data?"
      ]
    },
    {
      "cell_type": "code",
      "metadata": {
        "id": "FQ2t6Qa_fn6X",
        "colab_type": "code",
        "colab": {}
      },
      "source": [
        "#Placeholder for your coded solutions to the above exercises."
      ],
      "execution_count": 0,
      "outputs": []
    },
    {
      "cell_type": "markdown",
      "metadata": {
        "id": "EO6VzWsUf1RB",
        "colab_type": "text"
      },
      "source": [
        "**2.1.2. Categorical Variables**\n",
        "Some columns contain factors, meaning that each row will take one of a few predetermined values for that variable. Such variables are called categorical. For example, we know that the 'Embarked' column can take the values \"C\", \"Q\", or \"S\" depending on the port the passenger embarked on the Titanic from.\n"
      ]
    },
    {
      "cell_type": "code",
      "metadata": {
        "id": "KUGG0sqfgQF3",
        "colab_type": "code",
        "outputId": "12464a39-491a-4b89-fceb-5822298b5371",
        "colab": {
          "base_uri": "https://localhost:8080/",
          "height": 386
        }
      },
      "source": [
        "sns.catplot(x='Embarked', y='Survived', data=train_df, kind='point', aspect=3.5)"
      ],
      "execution_count": 0,
      "outputs": [
        {
          "output_type": "execute_result",
          "data": {
            "text/plain": [
              "<seaborn.axisgrid.FacetGrid at 0x7f2c5537ee48>"
            ]
          },
          "metadata": {
            "tags": []
          },
          "execution_count": 28
        },
        {
          "output_type": "display_data",
          "data": {
            "image/png": "[encoded data removed]",
            "text/plain": [
              "<Figure size 1260x360 with 1 Axes>"
            ]
          },
          "metadata": {
            "tags": []
          }
        }
      ]
    },
    {
      "cell_type": "markdown",
      "metadata": {
        "id": "7dGDNX5gghJd",
        "colab_type": "text"
      },
      "source": [
        "Exercises:\n",
        "3. What does this plot tell us?\n",
        "4. Can you amend the code to visualise how \"Survived\" depends on other categorical variables in the data?\n",
        "5. What do the vertical bars behind each point represent?\n"
      ]
    },
    {
      "cell_type": "code",
      "metadata": {
        "id": "ZyiIk887gzWl",
        "colab_type": "code",
        "colab": {}
      },
      "source": [
        "#Placeholder for your coded solutions to the above exercises."
      ],
      "execution_count": 0,
      "outputs": []
    },
    {
      "cell_type": "code",
      "metadata": {
        "id": "Mh-GG1qeg4yU",
        "colab_type": "code",
        "outputId": "f6901671-3a9e-498c-e522-9b02fc3e609f",
        "colab": {
          "base_uri": "https://localhost:8080/",
          "height": 296
        }
      },
      "source": [
        "sns.countplot(x='Embarked', data=train_df)"
      ],
      "execution_count": 0,
      "outputs": [
        {
          "output_type": "execute_result",
          "data": {
            "text/plain": [
              "<matplotlib.axes._subplots.AxesSubplot at 0x7f2c57d10e10>"
            ]
          },
          "metadata": {
            "tags": []
          },
          "execution_count": 30
        },
        {
          "output_type": "display_data",
          "data": {
            "image/png": "[encoded data removed]",
            "text/plain": [
              "<Figure size 432x288 with 1 Axes>"
            ]
          },
          "metadata": {
            "tags": []
          }
        }
      ]
    },
    {
      "cell_type": "markdown",
      "metadata": {
        "id": "-lDRtCjShB5w",
        "colab_type": "text"
      },
      "source": [
        "Exercises:\n",
        "\n",
        "6. What does this plot tell us?\n",
        "7. How does the information in this plot instruct us regarding exercise 5?\n",
        "8. Can you amend the code to plot exposure for other variables?"
      ]
    },
    {
      "cell_type": "code",
      "metadata": {
        "id": "F04qTaxlhTi3",
        "colab_type": "code",
        "colab": {}
      },
      "source": [
        "#Placeholder for your coded solutions to the above exercises."
      ],
      "execution_count": 0,
      "outputs": []
    },
    {
      "cell_type": "markdown",
      "metadata": {
        "id": "nSMmvyY5hVAv",
        "colab_type": "text"
      },
      "source": [
        "The same method can be used to investigate the correlation between any two variables. For instance, we may expect \"Fare\" to be related to the passenger's \"Pclass\", but is there any correlation between it and the port the passenger \"Embarked?"
      ]
    },
    {
      "cell_type": "code",
      "metadata": {
        "id": "4Vk17op-hS4h",
        "colab_type": "code",
        "outputId": "b5fba126-ac87-46fa-ffdc-e268f42bf014",
        "colab": {
          "base_uri": "https://localhost:8080/",
          "height": 406
        }
      },
      "source": [
        "sns.catplot(x='Embarked', y='Fare', hue='Pclass', data=train_df, kind='point', aspect=3.5)"
      ],
      "execution_count": 0,
      "outputs": [
        {
          "output_type": "execute_result",
          "data": {
            "text/plain": [
              "<seaborn.axisgrid.FacetGrid at 0x7f2c552aa438>"
            ]
          },
          "metadata": {
            "tags": []
          },
          "execution_count": 32
        },
        {
          "output_type": "display_data",
          "data": {
            "image/png": "[encoded data removed]",
            "text/plain": [
              "<Figure size 1302.38x360 with 1 Axes>"
            ]
          },
          "metadata": {
            "tags": []
          }
        }
      ]
    },
    {
      "cell_type": "markdown",
      "metadata": {
        "id": "5wdIOgaGhVDr",
        "colab_type": "text"
      },
      "source": [
        "# 3. Data Preparation\n",
        "**3.1. Imputation**\n",
        "\n",
        "Some ML algorithms cannot handle missing data gracefully. Regardless of the algorithm applied, it is a good idea to consider mising data and think about how it should be handled. \n",
        "\n",
        "In our case we know from above that there are columns with a number of missing values. Actually in the test dataset we havent touched yet, there may yet be additional columns that also have missing values. We need to be careful in our data preparation to ensure that any steps we take, we generalise to the entire dataset and not just the training data. This is often difficult because, in the real world, we often cannot foresee the data our machine learning model will be given to make predictions on -- the data will be entirely new and unknown at the time of training the model.\n",
        "\n",
        "We'll focus on the \"Age\" and \"Fare\" columns for now. The others will be handled differently below. When it comes to filling in the missing data there are many options available to us. In this case, we'll fill the missing values in these \"Age\" and \"Fare\" variables to some clearly distinguishible value; minus one.\n",
        "\n"
      ]
    },
    {
      "cell_type": "code",
      "metadata": {
        "id": "S2aIeKVulQMX",
        "colab_type": "code",
        "colab": {}
      },
      "source": [
        "def fill_nulls(df, columns=['Age', 'Fare']):\n",
        "  \"\"\"Fill the missing data in each of the columns with -1\"\"\"\n",
        "  fill_dict={}\n",
        "  for column in columns:\n",
        "    fill_dict[column]=-1\n",
        "\n",
        "  df = df.fillna(fill_dict)\n",
        "  return df"
      ],
      "execution_count": 0,
      "outputs": []
    },
    {
      "cell_type": "code",
      "metadata": {
        "id": "gf0s8DZMlpuG",
        "colab_type": "code",
        "outputId": "c832b0f5-d86c-40c6-9075-dfbb2ba2d7db",
        "colab": {
          "base_uri": "https://localhost:8080/",
          "height": 238
        }
      },
      "source": [
        "# For example:\n",
        "fill_nulls(train_df).isna().sum()"
      ],
      "execution_count": 0,
      "outputs": [
        {
          "output_type": "execute_result",
          "data": {
            "text/plain": [
              "PassengerId      0\n",
              "Survived         0\n",
              "Pclass           0\n",
              "Name             0\n",
              "Sex              0\n",
              "Age              0\n",
              "SibSp            0\n",
              "Parch            0\n",
              "Ticket           0\n",
              "Fare             0\n",
              "Cabin          687\n",
              "Embarked         2\n",
              "dtype: int64"
            ]
          },
          "metadata": {
            "tags": []
          },
          "execution_count": 34
        }
      ]
    },
    {
      "cell_type": "markdown",
      "metadata": {
        "id": "mwIRFvexhVG_",
        "colab_type": "text"
      },
      "source": [
        "Exercise:\n",
        "\n",
        "9. What other values could we use (instead of minus one) to replace the missing \"Age\" values?"
      ]
    },
    {
      "cell_type": "markdown",
      "metadata": {
        "id": "dEhl2qZ6mXGW",
        "colab_type": "text"
      },
      "source": [
        "**3.2. Feature Creation**\n",
        "\n",
        "Consider the \"Cabin\" variable.\n",
        "\n",
        "\n"
      ]
    },
    {
      "cell_type": "code",
      "metadata": {
        "id": "trfZTFfdhTfv",
        "colab_type": "code",
        "outputId": "1507f995-70e1-47ce-8273-19e273b8d951",
        "colab": {
          "base_uri": "https://localhost:8080/",
          "height": 204
        }
      },
      "source": [
        "train_df.Cabin.head(10)"
      ],
      "execution_count": 0,
      "outputs": [
        {
          "output_type": "execute_result",
          "data": {
            "text/plain": [
              "0     NaN\n",
              "1     C85\n",
              "2     NaN\n",
              "3    C123\n",
              "4     NaN\n",
              "5     NaN\n",
              "6     E46\n",
              "7     NaN\n",
              "8     NaN\n",
              "9     NaN\n",
              "Name: Cabin, dtype: object"
            ]
          },
          "metadata": {
            "tags": []
          },
          "execution_count": 35
        }
      ]
    },
    {
      "cell_type": "code",
      "metadata": {
        "id": "Dr5iit2SmvSz",
        "colab_type": "code",
        "outputId": "40fd9e0d-4bd2-4516-9b16-93273e07f61d",
        "colab": {
          "base_uri": "https://localhost:8080/",
          "height": 34
        }
      },
      "source": [
        "train_df[\"Cabin\"].nunique()"
      ],
      "execution_count": 0,
      "outputs": [
        {
          "output_type": "execute_result",
          "data": {
            "text/plain": [
              "147"
            ]
          },
          "metadata": {
            "tags": []
          },
          "execution_count": 36
        }
      ]
    },
    {
      "cell_type": "code",
      "metadata": {
        "id": "w5pVKnYmmvbL",
        "colab_type": "code",
        "outputId": "ebc0724a-53a1-44ca-e7fc-c5727613f0ca",
        "colab": {
          "base_uri": "https://localhost:8080/",
          "height": 34
        }
      },
      "source": [
        "train_df[\"Cabin\"].isna().sum()"
      ],
      "execution_count": 0,
      "outputs": [
        {
          "output_type": "execute_result",
          "data": {
            "text/plain": [
              "687"
            ]
          },
          "metadata": {
            "tags": []
          },
          "execution_count": 37
        }
      ]
    },
    {
      "cell_type": "markdown",
      "metadata": {
        "id": "c9zTdXCom4Zt",
        "colab_type": "text"
      },
      "source": [
        "We have two problems with the data in its current form. \n",
        "1. The data in \"Cabin\" is sparse; of the 891 rows, there are 687 with no data for this variable.\n",
        "2. When the variable is populated, it is often unique to the individual passenger.\n",
        "What we would like is some way to extract the useful information from this column, discarding the part that makes it specific to just one or two passengers.\n",
        "According to https://www.encyclopedia-titanica.org/cabins.html, the alphabetical prefix that we see on a passenger's \"cabin\" corresponds to the deck where the cabin was situated. This may be helpful information to extract since we might suspect that passengers on lower decks were less able to reach the available lifeboats and would be affected soonest by the rising waters as the ship sank."
      ]
    },
    {
      "cell_type": "code",
      "metadata": {
        "id": "iar3aqcqnnaQ",
        "colab_type": "code",
        "colab": {}
      },
      "source": [
        "def find_deck(row):\n",
        "  \"\"\"Extract the deck of each passenger's cabin\"\"\"\n",
        "  cabin=row[\"Cabin\"]\n",
        "\n",
        "  #If cabin isnt a strin (ie. is NaN) then return nothing.\n",
        "  if not(isinstance(cabin, str)):\n",
        "    return pd.np.NaN\n",
        "\n",
        "  # Remove any leading and trailing white space\n",
        "  cabin = cabin.strip()\n",
        "\n",
        "  #deck is initial alphabetical characters of the string\n",
        "  deck = \"\"\n",
        "  for character in cabin:\n",
        "    if not(character.isalpha()):\n",
        "      break\n",
        "    else:\n",
        "      deck += character\n",
        "\n",
        "  return deck"
      ],
      "execution_count": 0,
      "outputs": []
    },
    {
      "cell_type": "code",
      "metadata": {
        "id": "hwfQNnyAoRsV",
        "colab_type": "code",
        "colab": {}
      },
      "source": [
        "def add_deck_column(df):\n",
        "  \"\"\"Add the deck column to the dataframe based on the cabin column.\"\"\"\n",
        "  df['Deck'] = df.apply(lambda row: find_deck(row), axis=1)\n",
        "  df=df.drop(columns=\"Cabin\")\n",
        "  return df\n"
      ],
      "execution_count": 0,
      "outputs": []
    },
    {
      "cell_type": "code",
      "metadata": {
        "id": "AmrInuOComul",
        "colab_type": "code",
        "outputId": "219593cc-a0f3-49af-9145-ffe5eaac078d",
        "colab": {
          "base_uri": "https://localhost:8080/",
          "height": 204
        }
      },
      "source": [
        "#For example:\n",
        "train_df_w_deck = add_deck_column(train_df)\n",
        "train_df_w_deck.head()"
      ],
      "execution_count": 0,
      "outputs": [
        {
          "output_type": "execute_result",
          "data": {
            "text/html": [
              "<div>\n",
              "<style scoped>\n",
              "    .dataframe tbody tr th:only-of-type {\n",
              "        vertical-align: middle;\n",
              "    }\n",
              "\n",
              "    .dataframe tbody tr th {\n",
              "        vertical-align: top;\n",
              "    }\n",
              "\n",
              "    .dataframe thead th {\n",
              "        text-align: right;\n",
              "    }\n",
              "</style>\n",
              "<table border=\"1\" class=\"dataframe\">\n",
              "  <thead>\n",
              "    <tr style=\"text-align: right;\">\n",
              "      <th></th>\n",
              "      <th>PassengerId</th>\n",
              "      <th>Survived</th>\n",
              "      <th>Pclass</th>\n",
              "      <th>Name</th>\n",
              "      <th>Sex</th>\n",
              "      <th>Age</th>\n",
              "      <th>SibSp</th>\n",
              "      <th>Parch</th>\n",
              "      <th>Ticket</th>\n",
              "      <th>Fare</th>\n",
              "      <th>Embarked</th>\n",
              "      <th>Deck</th>\n",
              "    </tr>\n",
              "  </thead>\n",
              "  <tbody>\n",
              "    <tr>\n",
              "      <th>0</th>\n",
              "      <td>1</td>\n",
              "      <td>0</td>\n",
              "      <td>3</td>\n",
              "      <td>Braund, Mr. Owen Harris</td>\n",
              "      <td>male</td>\n",
              "      <td>22.0</td>\n",
              "      <td>1</td>\n",
              "      <td>0</td>\n",
              "      <td>A/5 21171</td>\n",
              "      <td>7.2500</td>\n",
              "      <td>S</td>\n",
              "      <td>NaN</td>\n",
              "    </tr>\n",
              "    <tr>\n",
              "      <th>1</th>\n",
              "      <td>2</td>\n",
              "      <td>1</td>\n",
              "      <td>1</td>\n",
              "      <td>Cumings, Mrs. John Bradley (Florence Briggs Th...</td>\n",
              "      <td>female</td>\n",
              "      <td>38.0</td>\n",
              "      <td>1</td>\n",
              "      <td>0</td>\n",
              "      <td>PC 17599</td>\n",
              "      <td>71.2833</td>\n",
              "      <td>C</td>\n",
              "      <td>C</td>\n",
              "    </tr>\n",
              "    <tr>\n",
              "      <th>2</th>\n",
              "      <td>3</td>\n",
              "      <td>1</td>\n",
              "      <td>3</td>\n",
              "      <td>Heikkinen, Miss. Laina</td>\n",
              "      <td>female</td>\n",
              "      <td>26.0</td>\n",
              "      <td>0</td>\n",
              "      <td>0</td>\n",
              "      <td>STON/O2. 3101282</td>\n",
              "      <td>7.9250</td>\n",
              "      <td>S</td>\n",
              "      <td>NaN</td>\n",
              "    </tr>\n",
              "    <tr>\n",
              "      <th>3</th>\n",
              "      <td>4</td>\n",
              "      <td>1</td>\n",
              "      <td>1</td>\n",
              "      <td>Futrelle, Mrs. Jacques Heath (Lily May Peel)</td>\n",
              "      <td>female</td>\n",
              "      <td>35.0</td>\n",
              "      <td>1</td>\n",
              "      <td>0</td>\n",
              "      <td>113803</td>\n",
              "      <td>53.1000</td>\n",
              "      <td>S</td>\n",
              "      <td>C</td>\n",
              "    </tr>\n",
              "    <tr>\n",
              "      <th>4</th>\n",
              "      <td>5</td>\n",
              "      <td>0</td>\n",
              "      <td>3</td>\n",
              "      <td>Allen, Mr. William Henry</td>\n",
              "      <td>male</td>\n",
              "      <td>35.0</td>\n",
              "      <td>0</td>\n",
              "      <td>0</td>\n",
              "      <td>373450</td>\n",
              "      <td>8.0500</td>\n",
              "      <td>S</td>\n",
              "      <td>NaN</td>\n",
              "    </tr>\n",
              "  </tbody>\n",
              "</table>\n",
              "</div>"
            ],
            "text/plain": [
              "   PassengerId  Survived  Pclass  ...     Fare Embarked  Deck\n",
              "0            1         0       3  ...   7.2500        S   NaN\n",
              "1            2         1       1  ...  71.2833        C     C\n",
              "2            3         1       3  ...   7.9250        S   NaN\n",
              "3            4         1       1  ...  53.1000        S     C\n",
              "4            5         0       3  ...   8.0500        S   NaN\n",
              "\n",
              "[5 rows x 12 columns]"
            ]
          },
          "metadata": {
            "tags": []
          },
          "execution_count": 40
        }
      ]
    },
    {
      "cell_type": "code",
      "metadata": {
        "id": "7PZX25Q2ovB9",
        "colab_type": "code",
        "outputId": "a6a11600-f028-4515-b5f6-c642dbff8cb1",
        "colab": {
          "base_uri": "https://localhost:8080/",
          "height": 34
        }
      },
      "source": [
        "train_df_w_deck['Deck'].unique()"
      ],
      "execution_count": 0,
      "outputs": [
        {
          "output_type": "execute_result",
          "data": {
            "text/plain": [
              "array([nan, 'C', 'E', 'G', 'D', 'A', 'B', 'F', 'T'], dtype=object)"
            ]
          },
          "metadata": {
            "tags": []
          },
          "execution_count": 41
        }
      ]
    },
    {
      "cell_type": "code",
      "metadata": {
        "id": "XmzsaoPLo0j3",
        "colab_type": "code",
        "outputId": "19879027-b89b-49bb-c38d-d663ee32904f",
        "colab": {
          "base_uri": "https://localhost:8080/",
          "height": 386
        }
      },
      "source": [
        "top_to_bottom_decks = [\"T\", \"A\", \"B\", \"C\", \"D\", \"E\", \"F\", \"G\"]\n",
        "sns.catplot(x='Deck', y='Survived', data=train_df_w_deck, kind='point', aspect=3.5, order=top_to_bottom_decks)"
      ],
      "execution_count": 0,
      "outputs": [
        {
          "output_type": "execute_result",
          "data": {
            "text/plain": [
              "<seaborn.axisgrid.FacetGrid at 0x7f2c551eb128>"
            ]
          },
          "metadata": {
            "tags": []
          },
          "execution_count": 42
        },
        {
          "output_type": "display_data",
          "data": {
            "image/png": "[encoded data removed]",
            "text/plain": [
              "<Figure size 1260x360 with 1 Axes>"
            ]
          },
          "metadata": {
            "tags": []
          }
        }
      ]
    },
    {
      "cell_type": "code",
      "metadata": {
        "id": "QZ734JB-pIKb",
        "colab_type": "code",
        "outputId": "daa8df91-0b28-4243-af53-c80b0dedd6ec",
        "colab": {
          "base_uri": "https://localhost:8080/",
          "height": 296
        }
      },
      "source": [
        "sns.countplot(x='Deck', data=train_df_w_deck, order=top_to_bottom_decks)"
      ],
      "execution_count": 0,
      "outputs": [
        {
          "output_type": "execute_result",
          "data": {
            "text/plain": [
              "<matplotlib.axes._subplots.AxesSubplot at 0x7f2c551eba58>"
            ]
          },
          "metadata": {
            "tags": []
          },
          "execution_count": 43
        },
        {
          "output_type": "display_data",
          "data": {
            "image/png": "[encoded data removed]",
            "text/plain": [
              "<Figure size 432x288 with 1 Axes>"
            ]
          },
          "metadata": {
            "tags": []
          }
        }
      ]
    },
    {
      "cell_type": "markdown",
      "metadata": {
        "id": "JGJeUl7opQwK",
        "colab_type": "text"
      },
      "source": [
        "There's possibly some signal here. Unfortunately the extremes (upper and lower decks) where we see the most deviation from the mean survival rate is also where there is least observations, meaning the data is less trustworthy."
      ]
    },
    {
      "cell_type": "markdown",
      "metadata": {
        "id": "8KMwnM8RzFyz",
        "colab_type": "text"
      },
      "source": [
        "**3.2. One Hot Encoding**\n",
        "It is common for categorical variables to be one-hot encoded which transforms them into True/False indicators, one for each factor in the column. Certain machine learning models require factors to be one hot encoded.\n",
        "\n"
      ]
    },
    {
      "cell_type": "code",
      "metadata": {
        "id": "jb35NSvSz1tn",
        "colab_type": "code",
        "colab": {}
      },
      "source": [
        "def one_hot_encode(df, factors =['Sex', 'Embarked', 'Deck']):\n",
        "  df_1he = pd.get_dummies(df, columns=factors)\n",
        "  return df_1he"
      ],
      "execution_count": 0,
      "outputs": []
    },
    {
      "cell_type": "code",
      "metadata": {
        "id": "79v7vmQ40QIK",
        "colab_type": "code",
        "outputId": "be2bf253-eb10-4d61-b173-eba56bb845d0",
        "colab": {
          "base_uri": "https://localhost:8080/",
          "height": 496
        }
      },
      "source": [
        "#For example:\n",
        "one_hot_encode(train_df).head()"
      ],
      "execution_count": 0,
      "outputs": [
        {
          "output_type": "execute_result",
          "data": {
            "text/html": [
              "<div>\n",
              "<style scoped>\n",
              "    .dataframe tbody tr th:only-of-type {\n",
              "        vertical-align: middle;\n",
              "    }\n",
              "\n",
              "    .dataframe tbody tr th {\n",
              "        vertical-align: top;\n",
              "    }\n",
              "\n",
              "    .dataframe thead th {\n",
              "        text-align: right;\n",
              "    }\n",
              "</style>\n",
              "<table border=\"1\" class=\"dataframe\">\n",
              "  <thead>\n",
              "    <tr style=\"text-align: right;\">\n",
              "      <th></th>\n",
              "      <th>PassengerId</th>\n",
              "      <th>Survived</th>\n",
              "      <th>Pclass</th>\n",
              "      <th>Name</th>\n",
              "      <th>Age</th>\n",
              "      <th>SibSp</th>\n",
              "      <th>Parch</th>\n",
              "      <th>Ticket</th>\n",
              "      <th>Fare</th>\n",
              "      <th>Cabin</th>\n",
              "      <th>Sex_female</th>\n",
              "      <th>Sex_male</th>\n",
              "      <th>Embarked_C</th>\n",
              "      <th>Embarked_Q</th>\n",
              "      <th>Embarked_S</th>\n",
              "      <th>Deck_A</th>\n",
              "      <th>Deck_B</th>\n",
              "      <th>Deck_C</th>\n",
              "      <th>Deck_D</th>\n",
              "      <th>Deck_E</th>\n",
              "      <th>Deck_F</th>\n",
              "      <th>Deck_G</th>\n",
              "      <th>Deck_T</th>\n",
              "    </tr>\n",
              "  </thead>\n",
              "  <tbody>\n",
              "    <tr>\n",
              "      <th>0</th>\n",
              "      <td>1</td>\n",
              "      <td>0</td>\n",
              "      <td>3</td>\n",
              "      <td>Braund, Mr. Owen Harris</td>\n",
              "      <td>22.0</td>\n",
              "      <td>1</td>\n",
              "      <td>0</td>\n",
              "      <td>A/5 21171</td>\n",
              "      <td>7.2500</td>\n",
              "      <td>NaN</td>\n",
              "      <td>0</td>\n",
              "      <td>1</td>\n",
              "      <td>0</td>\n",
              "      <td>0</td>\n",
              "      <td>1</td>\n",
              "      <td>0</td>\n",
              "      <td>0</td>\n",
              "      <td>0</td>\n",
              "      <td>0</td>\n",
              "      <td>0</td>\n",
              "      <td>0</td>\n",
              "      <td>0</td>\n",
              "      <td>0</td>\n",
              "    </tr>\n",
              "    <tr>\n",
              "      <th>1</th>\n",
              "      <td>2</td>\n",
              "      <td>1</td>\n",
              "      <td>1</td>\n",
              "      <td>Cumings, Mrs. John Bradley (Florence Briggs Th...</td>\n",
              "      <td>38.0</td>\n",
              "      <td>1</td>\n",
              "      <td>0</td>\n",
              "      <td>PC 17599</td>\n",
              "      <td>71.2833</td>\n",
              "      <td>C85</td>\n",
              "      <td>1</td>\n",
              "      <td>0</td>\n",
              "      <td>1</td>\n",
              "      <td>0</td>\n",
              "      <td>0</td>\n",
              "      <td>0</td>\n",
              "      <td>0</td>\n",
              "      <td>1</td>\n",
              "      <td>0</td>\n",
              "      <td>0</td>\n",
              "      <td>0</td>\n",
              "      <td>0</td>\n",
              "      <td>0</td>\n",
              "    </tr>\n",
              "    <tr>\n",
              "      <th>2</th>\n",
              "      <td>3</td>\n",
              "      <td>1</td>\n",
              "      <td>3</td>\n",
              "      <td>Heikkinen, Miss. Laina</td>\n",
              "      <td>26.0</td>\n",
              "      <td>0</td>\n",
              "      <td>0</td>\n",
              "      <td>STON/O2. 3101282</td>\n",
              "      <td>7.9250</td>\n",
              "      <td>NaN</td>\n",
              "      <td>1</td>\n",
              "      <td>0</td>\n",
              "      <td>0</td>\n",
              "      <td>0</td>\n",
              "      <td>1</td>\n",
              "      <td>0</td>\n",
              "      <td>0</td>\n",
              "      <td>0</td>\n",
              "      <td>0</td>\n",
              "      <td>0</td>\n",
              "      <td>0</td>\n",
              "      <td>0</td>\n",
              "      <td>0</td>\n",
              "    </tr>\n",
              "    <tr>\n",
              "      <th>3</th>\n",
              "      <td>4</td>\n",
              "      <td>1</td>\n",
              "      <td>1</td>\n",
              "      <td>Futrelle, Mrs. Jacques Heath (Lily May Peel)</td>\n",
              "      <td>35.0</td>\n",
              "      <td>1</td>\n",
              "      <td>0</td>\n",
              "      <td>113803</td>\n",
              "      <td>53.1000</td>\n",
              "      <td>C123</td>\n",
              "      <td>1</td>\n",
              "      <td>0</td>\n",
              "      <td>0</td>\n",
              "      <td>0</td>\n",
              "      <td>1</td>\n",
              "      <td>0</td>\n",
              "      <td>0</td>\n",
              "      <td>1</td>\n",
              "      <td>0</td>\n",
              "      <td>0</td>\n",
              "      <td>0</td>\n",
              "      <td>0</td>\n",
              "      <td>0</td>\n",
              "    </tr>\n",
              "    <tr>\n",
              "      <th>4</th>\n",
              "      <td>5</td>\n",
              "      <td>0</td>\n",
              "      <td>3</td>\n",
              "      <td>Allen, Mr. William Henry</td>\n",
              "      <td>35.0</td>\n",
              "      <td>0</td>\n",
              "      <td>0</td>\n",
              "      <td>373450</td>\n",
              "      <td>8.0500</td>\n",
              "      <td>NaN</td>\n",
              "      <td>0</td>\n",
              "      <td>1</td>\n",
              "      <td>0</td>\n",
              "      <td>0</td>\n",
              "      <td>1</td>\n",
              "      <td>0</td>\n",
              "      <td>0</td>\n",
              "      <td>0</td>\n",
              "      <td>0</td>\n",
              "      <td>0</td>\n",
              "      <td>0</td>\n",
              "      <td>0</td>\n",
              "      <td>0</td>\n",
              "    </tr>\n",
              "  </tbody>\n",
              "</table>\n",
              "</div>"
            ],
            "text/plain": [
              "   PassengerId  Survived  Pclass  ... Deck_F  Deck_G  Deck_T\n",
              "0            1         0       3  ...      0       0       0\n",
              "1            2         1       1  ...      0       0       0\n",
              "2            3         1       3  ...      0       0       0\n",
              "3            4         1       1  ...      0       0       0\n",
              "4            5         0       3  ...      0       0       0\n",
              "\n",
              "[5 rows x 23 columns]"
            ]
          },
          "metadata": {
            "tags": []
          },
          "execution_count": 45
        }
      ]
    },
    {
      "cell_type": "markdown",
      "metadata": {
        "id": "PQ-NOlKo0U16",
        "colab_type": "text"
      },
      "source": [
        "Exercises:\n",
        "10. Are there any other columns in the data that could be considered as factors?\n",
        "11. How would we modify the function above to one-hot encode them?\n",
        "12. Is it advisable to consider such column(s) as factors? What are the pros/cons?"
      ]
    },
    {
      "cell_type": "code",
      "metadata": {
        "id": "QzW6B4vN0lc9",
        "colab_type": "code",
        "colab": {}
      },
      "source": [
        "#Placeholder for your coded solutions to the above exercises."
      ],
      "execution_count": 0,
      "outputs": []
    },
    {
      "cell_type": "markdown",
      "metadata": {
        "id": "Ffc4jpH50sH6",
        "colab_type": "text"
      },
      "source": [
        "## **Model Training**\n",
        "**4.1. Feature Exclusion**\n",
        "For various reasons there are some variables that we dont want to use to make predictions. In other words, we only want our machine leaning model to train using a subset of the available columns.\n",
        "\n",
        "Passenger ID - this is an ID and therefore has no predictive power.\n",
        "\n",
        "Survived - this is our label; to use this would be cheating! \n",
        "\n",
        "Name - Since this column contains a great deal of unique values we want to guard against over-fitting.\n",
        "\n",
        "Ticket - Another ID\n",
        "\n",
        "Cabin - Given the issues described above, this will be engineered into a \"Deck\" variable instead. \n",
        "\n",
        "**4.2. Data Pipeline**\n",
        "\n",
        "Notice so far we have written all our data transformations in functions. This means that we can easily apply all the steps of our data pipeline to any given dataset with ease. This approach to data manipulation is clean, convenient and much safer since we need to guarantee that the training and test datasets are transformed in exactly the same manner.\n",
        "\n"
      ]
    },
    {
      "cell_type": "code",
      "metadata": {
        "id": "eltU9roC1_wp",
        "colab_type": "code",
        "colab": {}
      },
      "source": [
        "def get_features(df, excluded_cols = [\"PassengerId\", \"Survived\", \"Name\", \"Ticket\", \"Cabin\"]):\n",
        "  factors = [c for c in list(df) if c not in excluded_cols]\n",
        "  return factors"
      ],
      "execution_count": 0,
      "outputs": []
    },
    {
      "cell_type": "code",
      "metadata": {
        "id": "BlAFPS004FKT",
        "colab_type": "code",
        "colab": {}
      },
      "source": [
        "def apply_pipeline(df):\n",
        "  \"\"\"Apply all the steps of the data pipeline using defaults\"\"\"\n",
        "  df = fill_nulls(df)\n",
        "  df = add_deck_column(df)\n",
        "  df = one_hot_encode(df)\n",
        "  features = get_features(df)\n",
        "  df = df[features]\n",
        "  return df"
      ],
      "execution_count": 0,
      "outputs": []
    },
    {
      "cell_type": "code",
      "metadata": {
        "id": "2Zzux-cf4hQi",
        "colab_type": "code",
        "outputId": "80847fe7-96bd-4cc5-b4ca-4023e6575fe9",
        "colab": {
          "base_uri": "https://localhost:8080/",
          "height": 224
        }
      },
      "source": [
        "#Apply all the steps above to the training dataset\n",
        "train_df = pd.read_csv('/content/gdrive/My Drive/Colab Notebooks/train.csv')\n",
        "train_df_prepared = apply_pipeline(train_df)\n",
        "\n",
        "#Examine the final dataset\n",
        "train_df_prepared.head()"
      ],
      "execution_count": 0,
      "outputs": [
        {
          "output_type": "execute_result",
          "data": {
            "text/html": [
              "<div>\n",
              "<style scoped>\n",
              "    .dataframe tbody tr th:only-of-type {\n",
              "        vertical-align: middle;\n",
              "    }\n",
              "\n",
              "    .dataframe tbody tr th {\n",
              "        vertical-align: top;\n",
              "    }\n",
              "\n",
              "    .dataframe thead th {\n",
              "        text-align: right;\n",
              "    }\n",
              "</style>\n",
              "<table border=\"1\" class=\"dataframe\">\n",
              "  <thead>\n",
              "    <tr style=\"text-align: right;\">\n",
              "      <th></th>\n",
              "      <th>Pclass</th>\n",
              "      <th>Age</th>\n",
              "      <th>SibSp</th>\n",
              "      <th>Parch</th>\n",
              "      <th>Fare</th>\n",
              "      <th>Sex_female</th>\n",
              "      <th>Sex_male</th>\n",
              "      <th>Embarked_C</th>\n",
              "      <th>Embarked_Q</th>\n",
              "      <th>Embarked_S</th>\n",
              "      <th>Deck_A</th>\n",
              "      <th>Deck_B</th>\n",
              "      <th>Deck_C</th>\n",
              "      <th>Deck_D</th>\n",
              "      <th>Deck_E</th>\n",
              "      <th>Deck_F</th>\n",
              "      <th>Deck_G</th>\n",
              "      <th>Deck_T</th>\n",
              "    </tr>\n",
              "  </thead>\n",
              "  <tbody>\n",
              "    <tr>\n",
              "      <th>0</th>\n",
              "      <td>3</td>\n",
              "      <td>22.0</td>\n",
              "      <td>1</td>\n",
              "      <td>0</td>\n",
              "      <td>7.2500</td>\n",
              "      <td>0</td>\n",
              "      <td>1</td>\n",
              "      <td>0</td>\n",
              "      <td>0</td>\n",
              "      <td>1</td>\n",
              "      <td>0</td>\n",
              "      <td>0</td>\n",
              "      <td>0</td>\n",
              "      <td>0</td>\n",
              "      <td>0</td>\n",
              "      <td>0</td>\n",
              "      <td>0</td>\n",
              "      <td>0</td>\n",
              "    </tr>\n",
              "    <tr>\n",
              "      <th>1</th>\n",
              "      <td>1</td>\n",
              "      <td>38.0</td>\n",
              "      <td>1</td>\n",
              "      <td>0</td>\n",
              "      <td>71.2833</td>\n",
              "      <td>1</td>\n",
              "      <td>0</td>\n",
              "      <td>1</td>\n",
              "      <td>0</td>\n",
              "      <td>0</td>\n",
              "      <td>0</td>\n",
              "      <td>0</td>\n",
              "      <td>1</td>\n",
              "      <td>0</td>\n",
              "      <td>0</td>\n",
              "      <td>0</td>\n",
              "      <td>0</td>\n",
              "      <td>0</td>\n",
              "    </tr>\n",
              "    <tr>\n",
              "      <th>2</th>\n",
              "      <td>3</td>\n",
              "      <td>26.0</td>\n",
              "      <td>0</td>\n",
              "      <td>0</td>\n",
              "      <td>7.9250</td>\n",
              "      <td>1</td>\n",
              "      <td>0</td>\n",
              "      <td>0</td>\n",
              "      <td>0</td>\n",
              "      <td>1</td>\n",
              "      <td>0</td>\n",
              "      <td>0</td>\n",
              "      <td>0</td>\n",
              "      <td>0</td>\n",
              "      <td>0</td>\n",
              "      <td>0</td>\n",
              "      <td>0</td>\n",
              "      <td>0</td>\n",
              "    </tr>\n",
              "    <tr>\n",
              "      <th>3</th>\n",
              "      <td>1</td>\n",
              "      <td>35.0</td>\n",
              "      <td>1</td>\n",
              "      <td>0</td>\n",
              "      <td>53.1000</td>\n",
              "      <td>1</td>\n",
              "      <td>0</td>\n",
              "      <td>0</td>\n",
              "      <td>0</td>\n",
              "      <td>1</td>\n",
              "      <td>0</td>\n",
              "      <td>0</td>\n",
              "      <td>1</td>\n",
              "      <td>0</td>\n",
              "      <td>0</td>\n",
              "      <td>0</td>\n",
              "      <td>0</td>\n",
              "      <td>0</td>\n",
              "    </tr>\n",
              "    <tr>\n",
              "      <th>4</th>\n",
              "      <td>3</td>\n",
              "      <td>35.0</td>\n",
              "      <td>0</td>\n",
              "      <td>0</td>\n",
              "      <td>8.0500</td>\n",
              "      <td>0</td>\n",
              "      <td>1</td>\n",
              "      <td>0</td>\n",
              "      <td>0</td>\n",
              "      <td>1</td>\n",
              "      <td>0</td>\n",
              "      <td>0</td>\n",
              "      <td>0</td>\n",
              "      <td>0</td>\n",
              "      <td>0</td>\n",
              "      <td>0</td>\n",
              "      <td>0</td>\n",
              "      <td>0</td>\n",
              "    </tr>\n",
              "  </tbody>\n",
              "</table>\n",
              "</div>"
            ],
            "text/plain": [
              "   Pclass   Age  SibSp  Parch     Fare  ...  Deck_D  Deck_E  Deck_F  Deck_G  Deck_T\n",
              "0       3  22.0      1      0   7.2500  ...       0       0       0       0       0\n",
              "1       1  38.0      1      0  71.2833  ...       0       0       0       0       0\n",
              "2       3  26.0      0      0   7.9250  ...       0       0       0       0       0\n",
              "3       1  35.0      1      0  53.1000  ...       0       0       0       0       0\n",
              "4       3  35.0      0      0   8.0500  ...       0       0       0       0       0\n",
              "\n",
              "[5 rows x 18 columns]"
            ]
          },
          "metadata": {
            "tags": []
          },
          "execution_count": 51
        }
      ]
    },
    {
      "cell_type": "markdown",
      "metadata": {
        "id": "2pV6rT4F2CH0",
        "colab_type": "text"
      },
      "source": [
        "**4.2. Build A Model**\n",
        "\n",
        "It is finally time to apply some machine learning algorithm to our training dataset. There are plenty of possibilities when it comes to choosing an algorithm to apply, many of which will perform well for our purposes.\n",
        "\n",
        "I've decided to apply logistic regression in the example below since it can be used for classification purposes and is one of the simplest to set up. Many hours could be spent learning about and trying different techniques to this data in an attempt to improve the accuracy of the predictions.\n",
        "\n"
      ]
    },
    {
      "cell_type": "code",
      "metadata": {
        "id": "cxdn-zTa5StE",
        "colab_type": "code",
        "outputId": "0c62263b-5b5d-485c-dcee-323ec93fbcd7",
        "colab": {
          "base_uri": "https://localhost:8080/",
          "height": 238
        }
      },
      "source": [
        "#Scikit-learn offers a suite of machine learning tools for Python.\n",
        "from sklearn.linear_model import LogisticRegression\n",
        "\n",
        "log_reg = LogisticRegression()\n",
        "log_reg.fit(train_df_prepared, train_df[\"Survived\"])"
      ],
      "execution_count": 0,
      "outputs": [
        {
          "output_type": "stream",
          "text": [
            "/usr/local/lib/python3.6/dist-packages/sklearn/linear_model/_logistic.py:940: ConvergenceWarning: lbfgs failed to converge (status=1):\n",
            "STOP: TOTAL NO. of ITERATIONS REACHED LIMIT.\n",
            "\n",
            "Increase the number of iterations (max_iter) or scale the data as shown in:\n",
            "    https://scikit-learn.org/stable/modules/preprocessing.html\n",
            "Please also refer to the documentation for alternative solver options:\n",
            "    https://scikit-learn.org/stable/modules/linear_model.html#logistic-regression\n",
            "  extra_warning_msg=_LOGISTIC_SOLVER_CONVERGENCE_MSG)\n"
          ],
          "name": "stderr"
        },
        {
          "output_type": "execute_result",
          "data": {
            "text/plain": [
              "LogisticRegression(C=1.0, class_weight=None, dual=False, fit_intercept=True,\n",
              "                   intercept_scaling=1, l1_ratio=None, max_iter=100,\n",
              "                   multi_class='auto', n_jobs=None, penalty='l2',\n",
              "                   random_state=None, solver='lbfgs', tol=0.0001, verbose=0,\n",
              "                   warm_start=False)"
            ]
          },
          "metadata": {
            "tags": []
          },
          "execution_count": 52
        }
      ]
    },
    {
      "cell_type": "markdown",
      "metadata": {
        "id": "0Bs1wCX68I4A",
        "colab_type": "text"
      },
      "source": [
        "## **Model Evaluation**\n",
        "First of all, let's evaluate the accuracy of the model. Namely; what proportion of its predictions it gets correct. Of course, we only know the correct answer for passengers in the training dataset."
      ]
    },
    {
      "cell_type": "code",
      "metadata": {
        "id": "BzjGxhd68YjD",
        "colab_type": "code",
        "colab": {}
      },
      "source": [
        "#Find the predictions on the training dataset.\n",
        "truth = train_df[\"Survived\"]\n",
        "predictions = log_reg.predict(train_df_prepared)"
      ],
      "execution_count": 0,
      "outputs": []
    },
    {
      "cell_type": "code",
      "metadata": {
        "id": "QCV6CGV18fPK",
        "colab_type": "code",
        "outputId": "2f38f438-0e1e-46fa-a214-b55e40cbd691",
        "colab": {
          "base_uri": "https://localhost:8080/",
          "height": 34
        }
      },
      "source": [
        "correct = [truth[i] == predictions[i] for i in range(len(truth))]\n",
        "(sum(correct) / len(truth)) * 100"
      ],
      "execution_count": 0,
      "outputs": [
        {
          "output_type": "execute_result",
          "data": {
            "text/plain": [
              "80.02244668911335"
            ]
          },
          "metadata": {
            "tags": []
          },
          "execution_count": 55
        }
      ]
    },
    {
      "cell_type": "markdown",
      "metadata": {
        "id": "DnIw36Y08vNc",
        "colab_type": "text"
      },
      "source": [
        "Exercises:\n",
        "13. What problem arises if we concisely conclude that our model is 80% accurate?\n",
        "14. How could we more appropriately calculate the accuracy of the model?\n",
        "\n",
        "We can also create some nice visualisations to better understand how our model is performing."
      ]
    },
    {
      "cell_type": "code",
      "metadata": {
        "id": "BCxFwHJf9Ah5",
        "colab_type": "code",
        "outputId": "84a4ee18-ed45-4864-b242-c9b86172314a",
        "colab": {
          "base_uri": "https://localhost:8080/",
          "height": 296
        }
      },
      "source": [
        "from sklearn.metrics import confusion_matrix\n",
        "\n",
        "c_m = confusion_matrix(truth, predictions)\n",
        "ax = sns.heatmap(c_m,\n",
        "                 annot=True,\n",
        "                 xticklabels= [\"Not Survived\", \"Survived\"],\n",
        "                 fmt = \"d\",\n",
        "                 cmap = \"Blues\")\n",
        "ax.set(xlabel=\"Predicted\", ylabel=\"Truth\")\n",
        "ax.set_xlim(-0.5, 2)\n",
        "ax.set_ylim(-0.5, 2)\n",
        "ax.set_yticklabels((\"Not Survived\", \"Survived\"), rotation=90, va=\"center\")"
      ],
      "execution_count": 0,
      "outputs": [
        {
          "output_type": "execute_result",
          "data": {
            "text/plain": [
              "[Text(0, 0.5, 'Not Survived'), Text(0, 1.5, 'Survived')]"
            ]
          },
          "metadata": {
            "tags": []
          },
          "execution_count": 56
        },
        {
          "output_type": "display_data",
          "data": {
            "image/png": "[encoded data removed]",
            "text/plain": [
              "<Figure size 432x288 with 2 Axes>"
            ]
          },
          "metadata": {
            "tags": []
          }
        }
      ]
    },
    {
      "cell_type": "markdown",
      "metadata": {
        "id": "XEF__kNF9t_6",
        "colab_type": "text"
      },
      "source": [
        "Exercise:\n",
        "15. What does this plot above tell us about our model?\n",
        "\n",
        "We can do the same kind of univariate analysis that we did in the data exploration section to dig into how our model performing for certain segments of the training dataset.\n",
        "\n",
        "First, for ease of plotting, we need to merge the predcited data with the known-true data."
      ]
    },
    {
      "cell_type": "code",
      "metadata": {
        "id": "mZPKBEk49_TP",
        "colab_type": "code",
        "colab": {}
      },
      "source": [
        "train_df[\"Type\"] = \"Truth\"\n",
        "predicted_df = train_df.copy()\n",
        "predicted_df[\"Survived\"] = predictions\n",
        "predicted_df[\"Type\"] = \"Predicted\"\n",
        "\n",
        "truth_plus_predicted = train_df.append(predicted_df, ignore_index=True)"
      ],
      "execution_count": 0,
      "outputs": []
    },
    {
      "cell_type": "code",
      "metadata": {
        "id": "Ro8wfNYM-VIb",
        "colab_type": "code",
        "outputId": "f3fd18f8-a5dd-4cce-c962-c020c2607796",
        "colab": {
          "base_uri": "https://localhost:8080/",
          "height": 406
        }
      },
      "source": [
        "sns.catplot(x='Embarked', y='Survived', data=truth_plus_predicted, hue='Type', kind='point', aspect=3.5, ci=None)"
      ],
      "execution_count": 0,
      "outputs": [
        {
          "output_type": "execute_result",
          "data": {
            "text/plain": [
              "<seaborn.axisgrid.FacetGrid at 0x7f2c521c2c18>"
            ]
          },
          "metadata": {
            "tags": []
          },
          "execution_count": 58
        },
        {
          "output_type": "display_data",
          "data": {
            "image/png": "[encoded data removed]",
            "text/plain": [
              "<Figure size 1343.38x360 with 1 Axes>"
            ]
          },
          "metadata": {
            "tags": []
          }
        }
      ]
    },
    {
      "cell_type": "markdown",
      "metadata": {
        "id": "SoXo5BNz-lwe",
        "colab_type": "text"
      },
      "source": [
        "Exercises:\n",
        "16. What does the plot above tell us about how our model is performing for the \"Embarked\" variable?\n",
        "17. Can you modify the code above to perform similar analysis for other variables in the features list?\n",
        "18. Are there any ideas for how to improve our model's accuracy based on your discoveries? "
      ]
    },
    {
      "cell_type": "code",
      "metadata": {
        "id": "puH_3BTK-3Wv",
        "colab_type": "code",
        "colab": {}
      },
      "source": [
        "#Placeholder for your coded solutions to the above exercises"
      ],
      "execution_count": 0,
      "outputs": []
    },
    {
      "cell_type": "markdown",
      "metadata": {
        "id": "pDB0Fl-U_BEu",
        "colab_type": "text"
      },
      "source": [
        "## **Model Implementation**\n",
        "# 6.1. Data Preparation\n",
        "\n",
        "Once we are happy with the accuracy of our model's predictions, we can easily implement it to predict the survivl of passengers we have no ground truth for. But first, we need to prepare the data in the same fashion we did for model training. \n",
        "\n",
        "Notice this is the first time we have touched the test dataset so far. This is because we cannot risk peaking at the data we're going to predict on while we're still making updates to our model. If we did, we could introduce bias into our model building process that would mean our model does not generalise well to unseen data."
      ]
    },
    {
      "cell_type": "code",
      "metadata": {
        "id": "CjmWQgvd_mVg",
        "colab_type": "code",
        "colab": {}
      },
      "source": [
        "test_df = pd.read_csv('/content/gdrive/My Drive/Colab Notebooks/test.csv')\n",
        "test_df_prepared = apply_pipeline(test_df)"
      ],
      "execution_count": 0,
      "outputs": []
    },
    {
      "cell_type": "markdown",
      "metadata": {
        "id": "528nOiyc_5RW",
        "colab_type": "text"
      },
      "source": [
        "We have a subtle but fatal problem!"
      ]
    },
    {
      "cell_type": "code",
      "metadata": {
        "id": "OGNJ9mdk_5z9",
        "colab_type": "code",
        "outputId": "1192d996-c95f-474e-b583-7a9b9d880f1c",
        "colab": {
          "base_uri": "https://localhost:8080/",
          "height": 34
        }
      },
      "source": [
        "set(list(test_df_prepared)) == set(list(train_df_prepared))"
      ],
      "execution_count": 0,
      "outputs": [
        {
          "output_type": "execute_result",
          "data": {
            "text/plain": [
              "False"
            ]
          },
          "metadata": {
            "tags": []
          },
          "execution_count": 62
        }
      ]
    },
    {
      "cell_type": "markdown",
      "metadata": {
        "id": "ihq7BVMzAIep",
        "colab_type": "text"
      },
      "source": [
        "Exercises:\n",
        "19. Can you figure out what the problem is?\n",
        "20. Where has this problem came from?"
      ]
    },
    {
      "cell_type": "markdown",
      "metadata": {
        "id": "mDRz3QSrAK5U",
        "colab_type": "text"
      },
      "source": [
        "Fixing this problem is relatively easy."
      ]
    },
    {
      "cell_type": "code",
      "metadata": {
        "id": "MWh7vypmAObl",
        "colab_type": "code",
        "outputId": "953a8332-cf5a-4d8a-ab9b-f3b6d2e7e7cd",
        "colab": {
          "base_uri": "https://localhost:8080/",
          "height": 34
        }
      },
      "source": [
        "for c in list(train_df_prepared):\n",
        "  if c not in list(test_df_prepared):\n",
        "    test_df_prepared[c] = 0\n",
        "\n",
        "set(list(test_df_prepared)) == set(list(train_df_prepared))"
      ],
      "execution_count": 0,
      "outputs": [
        {
          "output_type": "execute_result",
          "data": {
            "text/plain": [
              "True"
            ]
          },
          "metadata": {
            "tags": []
          },
          "execution_count": 63
        }
      ]
    },
    {
      "cell_type": "markdown",
      "metadata": {
        "id": "aU5gWrSNAbvC",
        "colab_type": "text"
      },
      "source": [
        "# Make Predictions "
      ]
    },
    {
      "cell_type": "code",
      "metadata": {
        "id": "NbJbeUrkAgCe",
        "colab_type": "code",
        "outputId": "7ee374f4-c8c2-4ef5-dcfb-b17db5e30eeb",
        "colab": {
          "base_uri": "https://localhost:8080/",
          "height": 204
        }
      },
      "source": [
        "test_df[\"Prediction\"] = log_reg.predict(test_df_prepared)\n",
        "test_df.head()"
      ],
      "execution_count": 0,
      "outputs": [
        {
          "output_type": "execute_result",
          "data": {
            "text/html": [
              "<div>\n",
              "<style scoped>\n",
              "    .dataframe tbody tr th:only-of-type {\n",
              "        vertical-align: middle;\n",
              "    }\n",
              "\n",
              "    .dataframe tbody tr th {\n",
              "        vertical-align: top;\n",
              "    }\n",
              "\n",
              "    .dataframe thead th {\n",
              "        text-align: right;\n",
              "    }\n",
              "</style>\n",
              "<table border=\"1\" class=\"dataframe\">\n",
              "  <thead>\n",
              "    <tr style=\"text-align: right;\">\n",
              "      <th></th>\n",
              "      <th>PassengerId</th>\n",
              "      <th>Pclass</th>\n",
              "      <th>Name</th>\n",
              "      <th>Sex</th>\n",
              "      <th>Age</th>\n",
              "      <th>SibSp</th>\n",
              "      <th>Parch</th>\n",
              "      <th>Ticket</th>\n",
              "      <th>Fare</th>\n",
              "      <th>Cabin</th>\n",
              "      <th>Embarked</th>\n",
              "      <th>Prediction</th>\n",
              "    </tr>\n",
              "  </thead>\n",
              "  <tbody>\n",
              "    <tr>\n",
              "      <th>0</th>\n",
              "      <td>892</td>\n",
              "      <td>3</td>\n",
              "      <td>Kelly, Mr. James</td>\n",
              "      <td>male</td>\n",
              "      <td>34.5</td>\n",
              "      <td>0</td>\n",
              "      <td>0</td>\n",
              "      <td>330911</td>\n",
              "      <td>7.8292</td>\n",
              "      <td>NaN</td>\n",
              "      <td>Q</td>\n",
              "      <td>0</td>\n",
              "    </tr>\n",
              "    <tr>\n",
              "      <th>1</th>\n",
              "      <td>893</td>\n",
              "      <td>3</td>\n",
              "      <td>Wilkes, Mrs. James (Ellen Needs)</td>\n",
              "      <td>female</td>\n",
              "      <td>47.0</td>\n",
              "      <td>1</td>\n",
              "      <td>0</td>\n",
              "      <td>363272</td>\n",
              "      <td>7.0000</td>\n",
              "      <td>NaN</td>\n",
              "      <td>S</td>\n",
              "      <td>0</td>\n",
              "    </tr>\n",
              "    <tr>\n",
              "      <th>2</th>\n",
              "      <td>894</td>\n",
              "      <td>2</td>\n",
              "      <td>Myles, Mr. Thomas Francis</td>\n",
              "      <td>male</td>\n",
              "      <td>62.0</td>\n",
              "      <td>0</td>\n",
              "      <td>0</td>\n",
              "      <td>240276</td>\n",
              "      <td>9.6875</td>\n",
              "      <td>NaN</td>\n",
              "      <td>Q</td>\n",
              "      <td>0</td>\n",
              "    </tr>\n",
              "    <tr>\n",
              "      <th>3</th>\n",
              "      <td>895</td>\n",
              "      <td>3</td>\n",
              "      <td>Wirz, Mr. Albert</td>\n",
              "      <td>male</td>\n",
              "      <td>27.0</td>\n",
              "      <td>0</td>\n",
              "      <td>0</td>\n",
              "      <td>315154</td>\n",
              "      <td>8.6625</td>\n",
              "      <td>NaN</td>\n",
              "      <td>S</td>\n",
              "      <td>0</td>\n",
              "    </tr>\n",
              "    <tr>\n",
              "      <th>4</th>\n",
              "      <td>896</td>\n",
              "      <td>3</td>\n",
              "      <td>Hirvonen, Mrs. Alexander (Helga E Lindqvist)</td>\n",
              "      <td>female</td>\n",
              "      <td>22.0</td>\n",
              "      <td>1</td>\n",
              "      <td>1</td>\n",
              "      <td>3101298</td>\n",
              "      <td>12.2875</td>\n",
              "      <td>NaN</td>\n",
              "      <td>S</td>\n",
              "      <td>1</td>\n",
              "    </tr>\n",
              "  </tbody>\n",
              "</table>\n",
              "</div>"
            ],
            "text/plain": [
              "   PassengerId  Pclass  ... Embarked Prediction\n",
              "0          892       3  ...        Q          0\n",
              "1          893       3  ...        S          0\n",
              "2          894       2  ...        Q          0\n",
              "3          895       3  ...        S          0\n",
              "4          896       3  ...        S          1\n",
              "\n",
              "[5 rows x 12 columns]"
            ]
          },
          "metadata": {
            "tags": []
          },
          "execution_count": 64
        }
      ]
    },
    {
      "cell_type": "code",
      "metadata": {
        "id": "EZ5WqtUcAodo",
        "colab_type": "code",
        "colab": {}
      },
      "source": [
        "test_df[[\"PassengerId\", \"Prediction\"]].to_csv(\"/content/gdrive/My Drive/Colab Notebooks/predictions.csv\", index=False)"
      ],
      "execution_count": 0,
      "outputs": []
    },
    {
      "cell_type": "code",
      "metadata": {
        "id": "Fh_QccZ2A1PD",
        "colab_type": "code",
        "outputId": "74c4d164-c410-4011-c5db-736f112ecb8a",
        "colab": {
          "base_uri": "https://localhost:8080/",
          "height": 419
        }
      },
      "source": [
        "test_df[[\"PassengerId\", \"Prediction\"]]"
      ],
      "execution_count": 0,
      "outputs": [
        {
          "output_type": "execute_result",
          "data": {
            "text/html": [
              "<div>\n",
              "<style scoped>\n",
              "    .dataframe tbody tr th:only-of-type {\n",
              "        vertical-align: middle;\n",
              "    }\n",
              "\n",
              "    .dataframe tbody tr th {\n",
              "        vertical-align: top;\n",
              "    }\n",
              "\n",
              "    .dataframe thead th {\n",
              "        text-align: right;\n",
              "    }\n",
              "</style>\n",
              "<table border=\"1\" class=\"dataframe\">\n",
              "  <thead>\n",
              "    <tr style=\"text-align: right;\">\n",
              "      <th></th>\n",
              "      <th>PassengerId</th>\n",
              "      <th>Prediction</th>\n",
              "    </tr>\n",
              "  </thead>\n",
              "  <tbody>\n",
              "    <tr>\n",
              "      <th>0</th>\n",
              "      <td>892</td>\n",
              "      <td>0</td>\n",
              "    </tr>\n",
              "    <tr>\n",
              "      <th>1</th>\n",
              "      <td>893</td>\n",
              "      <td>0</td>\n",
              "    </tr>\n",
              "    <tr>\n",
              "      <th>2</th>\n",
              "      <td>894</td>\n",
              "      <td>0</td>\n",
              "    </tr>\n",
              "    <tr>\n",
              "      <th>3</th>\n",
              "      <td>895</td>\n",
              "      <td>0</td>\n",
              "    </tr>\n",
              "    <tr>\n",
              "      <th>4</th>\n",
              "      <td>896</td>\n",
              "      <td>1</td>\n",
              "    </tr>\n",
              "    <tr>\n",
              "      <th>...</th>\n",
              "      <td>...</td>\n",
              "      <td>...</td>\n",
              "    </tr>\n",
              "    <tr>\n",
              "      <th>413</th>\n",
              "      <td>1305</td>\n",
              "      <td>0</td>\n",
              "    </tr>\n",
              "    <tr>\n",
              "      <th>414</th>\n",
              "      <td>1306</td>\n",
              "      <td>1</td>\n",
              "    </tr>\n",
              "    <tr>\n",
              "      <th>415</th>\n",
              "      <td>1307</td>\n",
              "      <td>0</td>\n",
              "    </tr>\n",
              "    <tr>\n",
              "      <th>416</th>\n",
              "      <td>1308</td>\n",
              "      <td>0</td>\n",
              "    </tr>\n",
              "    <tr>\n",
              "      <th>417</th>\n",
              "      <td>1309</td>\n",
              "      <td>0</td>\n",
              "    </tr>\n",
              "  </tbody>\n",
              "</table>\n",
              "<p>418 rows × 2 columns</p>\n",
              "</div>"
            ],
            "text/plain": [
              "     PassengerId  Prediction\n",
              "0            892           0\n",
              "1            893           0\n",
              "2            894           0\n",
              "3            895           0\n",
              "4            896           1\n",
              "..           ...         ...\n",
              "413         1305           0\n",
              "414         1306           1\n",
              "415         1307           0\n",
              "416         1308           0\n",
              "417         1309           0\n",
              "\n",
              "[418 rows x 2 columns]"
            ]
          },
          "metadata": {
            "tags": []
          },
          "execution_count": 68
        }
      ]
    },
    {
      "cell_type": "markdown",
      "metadata": {
        "id": "v_twegE9CnOj",
        "colab_type": "text"
      },
      "source": [
        "## **Conclusion**\n",
        "\n",
        "We have managed to find some correlation between the information we have on the passengers on board the Titanic and whether they managed to survive. This has cumulated in building a machine learning model which capitalises on these correlations meaning we can use it to make predictions on new data. In doing so, we have leant a number of foundational data exploration, feature engineering, and model building techniques.\n",
        "\n"
      ]
    },
    {
      "cell_type": "markdown",
      "metadata": {
        "id": "ke0D_JRXDDnS",
        "colab_type": "text"
      },
      "source": [
        "## **Ideas for Future Work and Improvements**\n",
        "1. Can we apply feature engineering to the \"SibSp\" and \"Parch\" columns to create a boolean indicator of whether a passenger was traveling alone?\n",
        "2. Can we apply different machine learning algorithms (other than logistic regression) to the data? How does the performance of these models compare to what we currently have?\n",
        "3. What effect would bucketing the \"Age\" variable have on model performance? For example, creating Adult / Child / Senior categories.\n",
        "4. What information can we extract from the \"Ticket\" variable?\n",
        "5. How could we explain how our model worked if we needed to justify its predictions?\n",
        "6. Are there any other pieces of data that we could find that may be useful in improving our predictions?\n"
      ]
    },
    {
      "cell_type": "code",
      "metadata": {
        "id": "NQWHpezzEGcG",
        "colab_type": "code",
        "colab": {}
      },
      "source": [
        ""
      ],
      "execution_count": 0,
      "outputs": []
    }
  ]
}